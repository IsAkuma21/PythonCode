{
  "nbformat": 4,
  "nbformat_minor": 0,
  "metadata": {
    "colab": {
      "provenance": []
    },
    "kernelspec": {
      "name": "python3",
      "display_name": "Python 3"
    },
    "language_info": {
      "name": "python"
    }
  },
  "cells": [
    {
      "cell_type": "markdown",
      "metadata": {
        "id": "0Nqa6L4OfpSs"
      },
      "source": [
        "# Simulador monitoreo de fuente desconocida"
      ]
    },
    {
      "cell_type": "markdown",
      "metadata": {
        "id": "y0bOE5Fhfx7l"
      },
      "source": [
        "Simulación de una muestra radioactiva desconocida colocada dentro de un calibrador de dosis para medicina nuclear CRC-55tPET, que determina la actividad de la muestra. "
      ]
    },
    {
      "cell_type": "code",
      "metadata": {
        "id": "PQdhgPWnfDIQ"
      },
      "source": [
        "import numpy as np\n",
        "import time\n",
        "import datetime\n",
        "from matplotlib import pyplot as plt"
      ],
      "execution_count": 1,
      "outputs": []
    },
    {
      "cell_type": "code",
      "metadata": {
        "id": "nzp0osIMf_OJ"
      },
      "source": [
        "def decay():\n",
        "    \n",
        "    N0 = 3.7e10\n",
        "    t0 = 1681275996 #id de tiempo a las 11:00 del 11/04/23\n",
        "    t1 = time.time()\n",
        "    l = 0.693147/483840\n",
        "    Dt = t1-t0\n",
        "    Nt = N0*np.exp(-l*Dt) \n",
        "    r = 1-0.01*np.random.random()+0.01*np.random.random() #añade incertidumbre a la medicion\n",
        "    out = int(round(Nt*r,0))\n",
        "    print(\"Procesando...\")\n",
        "    time.sleep(4) #Delay dramatico\n",
        "    hora = datetime.datetime.now()\n",
        "    \n",
        "    print(\"La actividad de la muestra es\", out, \"MBq\")\n",
        "    print(\"El tiempo actual es:\", hora, \"\\n\" )\n"
      ],
      "execution_count": 9,
      "outputs": []
    },
    {
      "cell_type": "code",
      "metadata": {
        "colab": {
          "base_uri": "https://localhost:8080/"
        },
        "id": "gKMGUbHHgDRJ",
        "outputId": "3d5a5cc9-7dba-4aac-81b7-76a96f14a9da"
      },
      "source": [
        "for i in range(10):\n",
        "  decay()"
      ],
      "execution_count": 8,
      "outputs": [
        {
          "output_type": "stream",
          "name": "stdout",
          "text": [
            "Procesando...\n",
            "La actividad de la muestra es 36895096603 MBq\n",
            "El tiempo actual es: 2023-04-12 05:07:54.767242 \n",
            "\n",
            "Procesando...\n",
            "La actividad de la muestra es 36775257080 MBq\n",
            "El tiempo actual es: 2023-04-12 05:07:58.771670 \n",
            "\n",
            "Procesando...\n",
            "La actividad de la muestra es 36787496431 MBq\n",
            "El tiempo actual es: 2023-04-12 05:08:02.777700 \n",
            "\n",
            "Procesando...\n",
            "La actividad de la muestra es 36851507274 MBq\n",
            "El tiempo actual es: 2023-04-12 05:08:06.783383 \n",
            "\n",
            "Procesando...\n",
            "La actividad de la muestra es 36742273025 MBq\n",
            "El tiempo actual es: 2023-04-12 05:08:10.790750 \n",
            "\n",
            "Procesando...\n",
            "La actividad de la muestra es 37128349594 MBq\n",
            "El tiempo actual es: 2023-04-12 05:08:14.797936 \n",
            "\n",
            "Procesando...\n",
            "La actividad de la muestra es 37173949293 MBq\n",
            "El tiempo actual es: 2023-04-12 05:08:18.802386 \n",
            "\n",
            "Procesando...\n",
            "La actividad de la muestra es 36815655734 MBq\n",
            "El tiempo actual es: 2023-04-12 05:08:22.809274 \n",
            "\n",
            "Procesando...\n",
            "La actividad de la muestra es 36896181563 MBq\n",
            "El tiempo actual es: 2023-04-12 05:08:26.813735 \n",
            "\n",
            "Procesando...\n",
            "La actividad de la muestra es 37004586121 MBq\n",
            "El tiempo actual es: 2023-04-12 05:08:30.817736 \n",
            "\n"
          ]
        }
      ]
    }
  ]
}